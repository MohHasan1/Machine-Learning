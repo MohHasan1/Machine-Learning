{
 "cells": [
  {
   "cell_type": "markdown",
   "id": "f956a7f1-eb39-49e7-9d08-f00b177e8159",
   "metadata": {},
   "source": [
    "# Introduction To Pandas"
   ]
  },
  {
   "cell_type": "code",
   "execution_count": null,
   "id": "a6a9c370-1a40-4235-a470-3188bc05888b",
   "metadata": {},
   "outputs": [],
   "source": [
    "import pandas as pd"
   ]
  },
  {
   "cell_type": "markdown",
   "id": "6f1205c5-dc90-4c81-a695-a8848e1e01ee",
   "metadata": {},
   "source": [
    "#### 1.**Main Data Types**"
   ]
  },
  {
   "cell_type": "markdown",
   "id": "6d8fdc02-26a3-46d1-963f-268eced7031c",
   "metadata": {},
   "source": [
    "There are 2 main data types in pandas: series and DataFrame"
   ]
  },
  {
   "cell_type": "code",
   "execution_count": null,
   "id": "58ce2632-a761-4774-9053-3dfb76891f5a",
   "metadata": {
    "scrolled": true
   },
   "outputs": [],
   "source": [
    "# Series (1-dimensional) - Series takes in a list.\n",
    "series = pd.Series([\"cat\", \"bird\", \"tiger\", \"lion\"])"
   ]
  },
  {
   "cell_type": "code",
   "execution_count": null,
   "id": "2e7100d8-4a79-4093-904b-b24197e69069",
   "metadata": {},
   "outputs": [],
   "source": [
    "series2 = pd.Series([\"catto\", \"paggy\", \"tigrera\", \"simba\"])"
   ]
  },
  {
   "cell_type": "code",
   "execution_count": null,
   "id": "c28e59b7-7a9d-4b16-bd92-d7e03f5a57ea",
   "metadata": {},
   "outputs": [],
   "source": [
    "# DataFrame (2-dimensional) - dataframe takes in a dictionary\n",
    "dataFrame = pd.DataFrame({\"Animal\": series, \"name\": series2})"
   ]
  },
  {
   "cell_type": "markdown",
   "id": "69e721f5-9aae-4d69-8633-04718d5105e9",
   "metadata": {},
   "source": [
    "We can think of dataframe as a collection of series - series connected together in line to make a frame (table)"
   ]
  },
  {
   "cell_type": "markdown",
   "id": "267332b2-938b-4455-854a-d8dab29bfb23",
   "metadata": {},
   "source": [
    "#### 2.**Importing csv files**"
   ]
  },
  {
   "cell_type": "code",
   "execution_count": null,
   "id": "933622d7-e119-4767-86db-ba8ead4aa2c6",
   "metadata": {},
   "outputs": [],
   "source": [
    "# Import data \n",
    "car_sales = pd.read_csv(\"car-sales.csv\")"
   ]
  },
  {
   "attachments": {},
   "cell_type": "markdown",
   "id": "ac2441a8-a15b-4df0-9bcc-94978369830f",
   "metadata": {},
   "source": [
    "read_csv converts a csv file to a data-frame\n",
    "\n",
    "read_csv can also import directly from an URL.\n",
    "\n",
    "**NOTE**: column axis = 1, row axis = 0 in data-frame "
   ]
  },
  {
   "cell_type": "markdown",
   "id": "371489fa-6700-465f-889c-abd7d84f2a6f",
   "metadata": {},
   "source": [
    "#### 3.**Exporting data-frame**"
   ]
  },
  {
   "cell_type": "code",
   "execution_count": null,
   "id": "70b7c553-b30c-495c-b7aa-336608d6d203",
   "metadata": {},
   "outputs": [],
   "source": [
    "# When we export the data-frame we dont want to include the index (so index=False) \n",
    "car_sales.to_csv(\"exported-car-sales-data.csv\", index=False)"
   ]
  },
  {
   "cell_type": "markdown",
   "id": "bd120e63-0a02-4cf6-84e7-242c2ca1e5b4",
   "metadata": {},
   "source": [
    "#### 4.**Describing Data**"
   ]
  },
  {
   "cell_type": "code",
   "execution_count": null,
   "id": "94f1f875-84df-4f78-98e5-a429e3d35640",
   "metadata": {},
   "outputs": [],
   "source": [
    "# Data types of all the columns in the data-frame \n",
    "car_sales.dtypes"
   ]
  },
  {
   "cell_type": "code",
   "execution_count": null,
   "id": "99d77b36-4b66-449a-b098-5dd96fcd8b0b",
   "metadata": {},
   "outputs": [],
   "source": [
    "# Get the columns of the data (returns a list)\n",
    "columns = car_sales.columns"
   ]
  },
  {
   "cell_type": "code",
   "execution_count": null,
   "id": "657f8830-be73-49a0-b096-45460935a35a",
   "metadata": {},
   "outputs": [],
   "source": [
    "# Index info (start, end and step)\n",
    "index = car_sales.index"
   ]
  },
  {
   "cell_type": "code",
   "execution_count": null,
   "id": "9ce7df1f-40cc-4740-b357-0405c3f15553",
   "metadata": {},
   "outputs": [],
   "source": [
    "# Stats about the numberical columns in the data (mean, std, percentile, etc..)\n",
    "stats = car_sales.describe()"
   ]
  },
  {
   "cell_type": "code",
   "execution_count": null,
   "id": "5e4fa0dc-f905-441a-b8f4-ca6491b3171f",
   "metadata": {},
   "outputs": [],
   "source": [
    "# Info about the  (general info like dtypes, index, memory, etc..)\n",
    "info = car_sales.info()"
   ]
  },
  {
   "cell_type": "code",
   "execution_count": null,
   "id": "acda9788-f5fc-429d-b73f-d6a2615519b0",
   "metadata": {},
   "outputs": [],
   "source": [
    "# Mean of a specific numeric series in the data-frame\n",
    "car_sales.Doors.mean()"
   ]
  },
  {
   "cell_type": "code",
   "execution_count": null,
   "id": "ecdf69c8-5f07-4fb4-a988-86bdca5e35b4",
   "metadata": {},
   "outputs": [],
   "source": [
    "# sum of all the  series in the data-frame (inc no-numeric series)\n",
    "car_sales.sum()"
   ]
  },
  {
   "cell_type": "code",
   "execution_count": null,
   "id": "f5586c5f-f7df-4c19-af8d-bc3f6b6b16c1",
   "metadata": {},
   "outputs": [],
   "source": [
    "# sum of a specific numeric series in the data-frame\n",
    "car_sales.Doors.sum()"
   ]
  },
  {
   "cell_type": "markdown",
   "id": "ebb32b74-8232-4a2c-996e-9d02afa978f7",
   "metadata": {},
   "source": [
    "we can perform various other statistical operations on our data "
   ]
  },
  {
   "cell_type": "code",
   "execution_count": null,
   "id": "9d8db86c-09b3-4be7-b3a3-1635f193c624",
   "metadata": {},
   "outputs": [],
   "source": [
    "# length of the data-frame (rows)\n",
    "len(car_sales)"
   ]
  },
  {
   "cell_type": "markdown",
   "id": "afc11e35-40ce-4690-9ab7-aebe74beccb6",
   "metadata": {},
   "source": [
    "#### 4.View and Select Data "
   ]
  },
  {
   "cell_type": "markdown",
   "id": "4868dfa2-5990-4fae-a25e-3bf9ec2b6f49",
   "metadata": {},
   "source": [
    "##### 4.1 View"
   ]
  },
  {
   "cell_type": "code",
   "execution_count": null,
   "id": "f5897744-46ce-4e56-a268-241a06c46a32",
   "metadata": {},
   "outputs": [],
   "source": [
    "# view first few rows of the dat-frame (default  =  5) - head(8) also takes in a number\n",
    "car_sales.head()"
   ]
  },
  {
   "cell_type": "code",
   "execution_count": null,
   "id": "6f63ec67-4a26-4642-bc2b-611fc0c770be",
   "metadata": {},
   "outputs": [],
   "source": [
    "# view last few rows of the dat-frame (default  =  5) - last(7) also takes in a number\n",
    "car_sales.tail()"
   ]
  },
  {
   "cell_type": "markdown",
   "id": "417bbd12-837c-4007-82f4-cdc2ec2acfc0",
   "metadata": {},
   "source": [
    "##### 4.2 Indexing data"
   ]
  },
  {
   "cell_type": "code",
   "execution_count": null,
   "id": "dfad744b-16aa-44c7-b311-32f0b5c48934",
   "metadata": {},
   "outputs": [],
   "source": [
    "animals = pd.Series([\"cat\", \"bird\", \"tiger\", \"lion\"], index=[2,4,6,8])\n",
    "animals;"
   ]
  },
  {
   "cell_type": "code",
   "execution_count": null,
   "id": "93e81f8e-5f1b-4a7a-9938-ac69715e1dc9",
   "metadata": {},
   "outputs": [],
   "source": [
    "# Series Index - manual\n",
    "car_sales = pd.read_csv(\"car-sales.csv\")\n",
    "\n",
    "doors = car_sales.Doors\n",
    "doors.index = [1,2,3,4,5,6,7,8,9,10]\n",
    "doors;                "
   ]
  },
  {
   "cell_type": "code",
   "execution_count": null,
   "id": "d2bfc736-7b8c-4f0d-b171-1202a7cf1037",
   "metadata": {},
   "outputs": [],
   "source": [
    "# Series Index - auto (using range and len)\n",
    "car_sales = pd.read_csv(\"car-sales.csv\")\n",
    "\n",
    "doors = car_sales.Doors\n",
    "index = range(1, len(car_sales)+1)\n",
    "doors.index = index\n",
    "doors;"
   ]
  },
  {
   "cell_type": "markdown",
   "id": "228ee69a-393d-43be-9f13-693ba1dd2365",
   "metadata": {},
   "source": [
    "By default data-frame adds a index starting from 0"
   ]
  },
  {
   "cell_type": "code",
   "execution_count": null,
   "id": "7eb5f63e-3d26-4b1d-9442-0331f1622aef",
   "metadata": {},
   "outputs": [],
   "source": [
    "# Setting custom index to data-frame"
   ]
  },
  {
   "cell_type": "code",
   "execution_count": null,
   "id": "45bc1efe-235a-4f39-97f4-9067e28f28cc",
   "metadata": {},
   "outputs": [],
   "source": [
    "# DataFrame custom Index - (method - 1)\n",
    "car_sales = pd.read_csv(\"car-sales.csv\")\n",
    "\n",
    "car_sales = car_sales.set_index(pd.Index(range(1, len(car_sales)+1)))\n",
    "car_sales;"
   ]
  },
  {
   "cell_type": "code",
   "execution_count": null,
   "id": "e865609f-8563-45c2-9714-a7173529e6ac",
   "metadata": {},
   "outputs": [],
   "source": [
    "# DataFrame custom Index - (method - 2)\n",
    "car_sales = pd.read_csv(\"car-sales.csv\")\n",
    "\n",
    "car_sales.index = range(1, len(car_sales)+1)\n",
    "car_sales;"
   ]
  },
  {
   "cell_type": "markdown",
   "id": "3e28d4f3-3738-4e28-baac-75f25ad3cdfd",
   "metadata": {},
   "source": [
    "##### 4.3 LOC and ILOC"
   ]
  },
  {
   "cell_type": "markdown",
   "id": "b68e85d4-ceb5-4e41-ae83-f14fd8d51ecf",
   "metadata": {},
   "source": [
    "a. loc refers to the exact index number associated with a row (we can change this index "
   ]
  },
  {
   "cell_type": "code",
   "execution_count": null,
   "id": "3d98e828-b824-4db7-bd3d-625dc69b6ad4",
   "metadata": {},
   "outputs": [],
   "source": [
    "# loc  - series\n",
    "animals = pd.Series([\"cat\", \"bird\", \"tiger\", \"lion\"], index=[2,4,2,8])\n",
    "animals;\n",
    "animals.loc[2];\n",
    "animals.loc[8];"
   ]
  },
  {
   "cell_type": "code",
   "execution_count": null,
   "id": "c4cedd6e-6617-43e5-9700-5e8f41703380",
   "metadata": {},
   "outputs": [],
   "source": [
    "# loc - dataframe\n",
    "# loc depends on how we set the index - default start from 0\n",
    "car_sales = pd.read_csv(\"car-sales.csv\")\n",
    "\n",
    "car_sales.loc[3];"
   ]
  },
  {
   "cell_type": "markdown",
   "id": "0a57ff11-ec75-4f74-8c67-6a03eecab34c",
   "metadata": {},
   "source": [
    "b. iloc refers to default index set by the dataframe (even if we add a cutom index)"
   ]
  },
  {
   "cell_type": "code",
   "execution_count": null,
   "id": "0bd0e08a-f52b-4b94-a061-5ee6db543d54",
   "metadata": {},
   "outputs": [],
   "source": [
    "# iloc - series\n",
    "animals = pd.Series([\"cat\", \"bird\", \"tiger\", \"lion\"], index=[2,4,2,8])\n",
    "\n",
    "animals.iloc[0];"
   ]
  },
  {
   "cell_type": "code",
   "execution_count": null,
   "id": "ffe2c4f3-659e-4038-808f-cf2dcb6be5fb",
   "metadata": {},
   "outputs": [],
   "source": [
    "# loc - dataframe\n",
    "# iloc depends on on the default index even if we change the index - default start from 0\n",
    "car_sales = pd.read_csv(\"car-sales.csv\")\n",
    "car_sales.index = range(2, len(car_sales)+2) \n",
    "\n",
    "car_sales.iloc[0];"
   ]
  },
  {
   "cell_type": "markdown",
   "id": "2b83cb63-4f00-4051-b965-5abe7128b037",
   "metadata": {},
   "source": [
    "##### 4.4 Slicing using iloc"
   ]
  },
  {
   "cell_type": "code",
   "execution_count": null,
   "id": "d47b0114-98f0-4e6a-b4f2-98defc46c4c2",
   "metadata": {},
   "outputs": [],
   "source": [
    "# slicing - iloc - series\n",
    "animals = pd.Series([\"cat\", \"bird\", \"tiger\", \"lion\"], index=[2,4,2,8])\n",
    "\n",
    "# starting from 0 up to 3 (nit including 3) - ( 0 <= items < 3 )\n",
    "animals.iloc[:3];"
   ]
  },
  {
   "cell_type": "code",
   "execution_count": null,
   "id": "90107052-9fc8-487d-b303-3d63a787f821",
   "metadata": {},
   "outputs": [],
   "source": [
    "# slicing - iloc - series\n",
    "car_sales = pd.read_csv(\"car-sales.csv\")\n",
    "\n",
    "# starting from 1 up to 3 (not including 3) - ( 1 <= items < 3 )\n",
    "car_sales.iloc[1:3];"
   ]
  },
  {
   "cell_type": "markdown",
   "id": "ffbfeadd-2391-4c06-b848-85ede0afd9d7",
   "metadata": {},
   "source": [
    "##### 4.5 Selecting columns "
   ]
  },
  {
   "cell_type": "code",
   "execution_count": null,
   "id": "f9f108a5-7726-4c5a-9d06-b9276669f294",
   "metadata": {},
   "outputs": [],
   "source": [
    "# method-1\n",
    "car_sales[\"Make\"];"
   ]
  },
  {
   "cell_type": "code",
   "execution_count": null,
   "id": "b909985d-eeb0-4213-ab9d-dfd64d3e0283",
   "metadata": {},
   "outputs": [],
   "source": [
    "# method-2\n",
    "car_sales.Make\n",
    "\n",
    "# dot notation wont work if we have a space eg: \"Odameter (km)\" - use method 1"
   ]
  },
  {
   "cell_type": "markdown",
   "id": "3c506a04-4fab-4bf4-a9c2-56757220d3bc",
   "metadata": {},
   "source": [
    "##### 4.6 Querying"
   ]
  },
  {
   "cell_type": "code",
   "execution_count": null,
   "id": "f8e37cc4-2633-4a16-8070-14572d0bdba4",
   "metadata": {},
   "outputs": [],
   "source": [
    "# Equal \n",
    "car_sales[ car_sales.Make == \"Toyota\" ];"
   ]
  },
  {
   "cell_type": "code",
   "execution_count": null,
   "id": "1769b6a2-0efe-4fe3-b947-c02312cbab2b",
   "metadata": {},
   "outputs": [],
   "source": [
    "# greater/ less than\n",
    "\n",
    "car_sales[ car_sales.Doors >= 4];"
   ]
  },
  {
   "cell_type": "markdown",
   "id": "4a31eb8a-b5f8-4dff-bed6-511046115bc2",
   "metadata": {},
   "source": [
    "##### 4.7 Comparing"
   ]
  },
  {
   "cell_type": "code",
   "execution_count": null,
   "id": "5f63202f-6232-4089-a23c-856b51377f9b",
   "metadata": {},
   "outputs": [],
   "source": [
    "# comparing 2 columns - crosstab\n",
    "pd.crosstab( car_sales.Make,  car_sales.Colour);"
   ]
  },
  {
   "cell_type": "code",
   "execution_count": null,
   "id": "87724064-0756-4c20-a4e2-1049af7cbaaa",
   "metadata": {},
   "outputs": [],
   "source": [
    "# comapring more than 2 columns - groupby\n",
    "\n",
    "# Load the dataset\n",
    "car_sales = pd.read_csv(\"car-sales.csv\")\n",
    "\n",
    "# Group by the 'Make' column and calculate the mean for each group\n",
    "mean_sales_by_make = car_sales.groupby(\"Make\").mean(numeric_only=True)\n",
    "\n",
    "# Display the result\n",
    "mean_sales_by_make;"
   ]
  },
  {
   "cell_type": "markdown",
   "id": "88e2b5c5-e6bf-44cc-ab2a-7ca0b6a21728",
   "metadata": {},
   "source": [
    "##### 4.8 Plotting"
   ]
  },
  {
   "cell_type": "code",
   "execution_count": null,
   "id": "1a980dbe-56a1-4b25-812a-310c544aebd4",
   "metadata": {},
   "outputs": [],
   "source": [
    "car_sales[\"Odometer (KM)\"].plot();"
   ]
  },
  {
   "cell_type": "code",
   "execution_count": null,
   "id": "4a7a5956-78cf-43ec-8d0b-ba6c4f4b5991",
   "metadata": {},
   "outputs": [],
   "source": [
    "car_sales[\"Odometer (KM)\"].hist();"
   ]
  },
  {
   "cell_type": "markdown",
   "id": "3f0e828d-238b-4c47-8d29-5468138c3330",
   "metadata": {
    "jp-MarkdownHeadingCollapsed": true
   },
   "source": [
    "#### 5.Cleaning and converting dtypes"
   ]
  },
  {
   "cell_type": "code",
   "execution_count": null,
   "id": "c6266c59-7096-4f35-b7d2-1abbecf735cd",
   "metadata": {},
   "outputs": [],
   "source": [
    "car_sales = pd.read_csv(\"car-sales.csv\")\n",
    "\n",
    "# Price column/series type \n",
    "car_sales.Price.dtypes;"
   ]
  },
  {
   "cell_type": "code",
   "execution_count": null,
   "id": "54bf7273-a8b2-4e3e-a53e-7070558ee444",
   "metadata": {},
   "outputs": [],
   "source": [
    "# step-1: Remove non-numeric characters (dollar sign, commas) - cleaning\n",
    "car_sales['Price'] = car_sales['Price'].str.replace(r'[\\$\\,]', '', regex=True)\n",
    "car_sales.Price;"
   ]
  },
  {
   "cell_type": "markdown",
   "id": "9f6986b4-836f-4946-bd8b-0c6b1f7b5ca1",
   "metadata": {},
   "source": [
    "The `r` before a string indicates a raw string literal, which tells Python to treat backslashes as literal characters, making regular expressions easier to read.\n"
   ]
  },
  {
   "cell_type": "code",
   "execution_count": null,
   "id": "15349b58-6bcd-434c-be3a-136a76c65bed",
   "metadata": {},
   "outputs": [],
   "source": [
    "# step-2: Convert the 'Price' column to numeric and remove the '.00' by converting it to an float - convering\n",
    "car_sales['Price'] = pd.to_numeric(car_sales['Price'], errors='coerce', downcast='float')\n",
    "car_sales.Price;"
   ]
  },
  {
   "cell_type": "markdown",
   "id": "b27502b5-6cd5-46c6-99fd-6af386acfb6a",
   "metadata": {},
   "source": [
    "- **`errors='coerce'`**: Any value that cannot be converted to a number (such as a string that doesn't represent a valid number) will be replaced with `NaN` (Not a Number).\n",
    "- **`errors='raise'`**: This is the default behavior. It raises an error if any values can't be converted.\n",
    "- **`errors='ignore'`**: It leaves the problematic values as they are (i.e., if the value can't be converted, it remains in its original form).\n"
   ]
  },
  {
   "cell_type": "markdown",
   "id": "1684dd5e-e55e-424f-89f3-305776361642",
   "metadata": {},
   "source": [
    "The `downcast` argument in `pd.to_numeric()` is used to reduce the memory usage by converting the data to a smaller numeric type. You can specify:\n",
    "- **`'integer'`**: Downcast to the smallest integer type.\n",
    "- **`'float'`**: Downcast to the smallest float type.\n",
    "- **`None`** (default): No downcasting.\n",
    "\n",
    "Example:\n",
    "```python\n",
    "data_converted = pd.to_numeric(data, downcast='integer')\n"
   ]
  },
  {
   "cell_type": "code",
   "execution_count": null,
   "id": "8aedd53c-7852-4d95-9fe1-2d0a474a3975",
   "metadata": {},
   "outputs": [],
   "source": [
    "# Convert float to an integer - (opt - converting)\n",
    "car_sales['Price'] = car_sales['Price'].astype(int)\n",
    "car_sales.Price;"
   ]
  },
  {
   "cell_type": "markdown",
   "id": "e35c9f71-4171-466c-b3ce-e6126cde0456",
   "metadata": {
    "jp-MarkdownHeadingCollapsed": true
   },
   "source": [
    "#### 6.Data Manipulation"
   ]
  },
  {
   "cell_type": "code",
   "execution_count": null,
   "id": "cd3dac40-0f59-496d-a011-b0bde4ae6b82",
   "metadata": {},
   "outputs": [],
   "source": [
    "# import data \n",
    "car_sales_missing = pd.read_csv(\"data/car-sales-missing-data.csv\")"
   ]
  },
  {
   "cell_type": "code",
   "execution_count": null,
   "id": "d031c0c9-57b8-4899-8c10-f9fd38616a4f",
   "metadata": {},
   "outputs": [],
   "source": [
    "# index - review (opt)\n",
    "car_sales_missing.index = range(1, len(car_sales)+1)"
   ]
  },
  {
   "cell_type": "markdown",
   "id": "88c00b8a-5926-4ae5-b117-9b9b45e392fa",
   "metadata": {},
   "source": [
    "#### 6.0 Pandas and `NaN` for Missing Values"
   ]
  },
  {
   "cell_type": "markdown",
   "id": "fbd74b7d-2dea-46e9-9187-c74e72120e3f",
   "metadata": {},
   "source": [
    "In Pandas, missing values are represented by `NaN` (Not a Number). It is used to indicate undefined or missing data in DataFrames or Series.\n",
    "\n",
    "- `NaN` is not equal to any value, including itself (`NaN != NaN`).\n",
    "- Functions like `isna()`, `fillna()`, and `dropna()` help handle missing values.\n",
    "\n",
    "#### Example:\n",
    "```python\n",
    "import pandas as pd\n",
    "import numpy as np\n",
    "\n",
    "df = pd.DataFrame({'A': [1, 2, np.nan, 4]})\n",
    "df.isna()  # Check for NaN values\n"
   ]
  },
  {
   "cell_type": "markdown",
   "id": "6b4d9ce5-64aa-4132-8c70-3f1c48f5d34f",
   "metadata": {
    "jp-MarkdownHeadingCollapsed": true
   },
   "source": [
    "#### 6.1 Reassigning Modified Values in Pandas"
   ]
  },
  {
   "cell_type": "markdown",
   "id": "2c3c8d51-28c6-44ba-937b-9f4b395c9277",
   "metadata": {
    "jp-MarkdownHeadingCollapsed": true
   },
   "source": [
    "There are two ways to reassign modified values to a DataFrame:\n",
    "\n",
    "1. **Using the `=` operator**: Directly assigns the modified DataFrame or Series.\n",
    "   ```python\n",
    "   df['A'] = df['A'] * 2"
   ]
  },
  {
   "cell_type": "markdown",
   "id": "0abc40ac-3d16-43e2-b3e2-29506583045a",
   "metadata": {},
   "source": [
    "2. **Using `inplace=True` in pandas (if supported)**\n",
    "\n",
    "    The `inplace=True` parameter modifies a DataFrame directly without returning a new one.\n",
    "\n",
    "    Example: Dropping Missing Values\n",
    "\n",
    "    ```python\n",
    "    import pandas as pd\n",
    "    \n",
    "    # Sample DataFrame\n",
    "    df = pd.DataFrame({'A': [1, 2, None, 4], 'B': [None, 2, 3, 4]})\n",
    "    \n",
    "    # Drop rows with missing values in place\n",
    "    df.dropna(inplace=True)\n",
    "    \n",
    "    print(df)\n"
   ]
  },
  {
   "cell_type": "markdown",
   "id": "2e85b69a-a293-4ee5-8b68-a2c1e3ce28a8",
   "metadata": {
    "jp-MarkdownHeadingCollapsed": true
   },
   "source": [
    "#### 6.2 Dealing with NaN values"
   ]
  },
  {
   "cell_type": "markdown",
   "id": "a8db4164-3d0e-4bfb-b5b7-93a932159ca8",
   "metadata": {},
   "source": [
    "a. Replaceing NaN values"
   ]
  },
  {
   "cell_type": "code",
   "execution_count": null,
   "id": "f09c143d-a951-44de-b1bc-b664b47aeb51",
   "metadata": {},
   "outputs": [],
   "source": [
    "# method-1: fill the NaN with mean values - (not a good approach)\n",
    "car_sales_missing[\"Odometer\"];"
   ]
  },
  {
   "cell_type": "code",
   "execution_count": null,
   "id": "bd7408e3-0ee6-4011-96c3-d7550c947c6b",
   "metadata": {},
   "outputs": [],
   "source": [
    "# cal mean and  using inPlace\n",
    "mean = car_sales_missing[\"Odometer\"].mean()\n",
    "car_sales_missing[\"Odometer\"].fillna(mean, inplace=True);"
   ]
  },
  {
   "cell_type": "markdown",
   "id": "aa4e5b58-e8a0-4643-ab71-b4d65e5079d0",
   "metadata": {},
   "source": [
    "b. Dropping NaN values"
   ]
  },
  {
   "cell_type": "code",
   "execution_count": null,
   "id": "b40933ea-b468-46d4-8218-9ff92caaf28a",
   "metadata": {},
   "outputs": [],
   "source": [
    "# method - 2: droping rows with Nan values\n",
    "car_sales_missing.dropna(inplace=False);"
   ]
  },
  {
   "cell_type": "markdown",
   "id": "7d4e8675-a895-430d-b3b3-d5b80944c2d1",
   "metadata": {
    "jp-MarkdownHeadingCollapsed": true
   },
   "source": [
    "#### 6.3 String manipulation"
   ]
  },
  {
   "cell_type": "code",
   "execution_count": null,
   "id": "6d627b14-f650-4608-a83a-e7d725014557",
   "metadata": {},
   "outputs": [],
   "source": [
    "# lower case\n",
    "car_sales_missing.Make.str.lower();"
   ]
  },
  {
   "cell_type": "code",
   "execution_count": null,
   "id": "d76b6021-db05-4ffc-8694-a6188aefed60",
   "metadata": {},
   "outputs": [],
   "source": [
    "# upper case\n",
    "car_sales_missing.Make.str.upper();"
   ]
  },
  {
   "cell_type": "markdown",
   "id": "c1780f00-39d1-402a-ba12-b8c7c5d950fb",
   "metadata": {
    "jp-MarkdownHeadingCollapsed": true
   },
   "source": [
    "#### 6.4 creating columns"
   ]
  },
  {
   "cell_type": "markdown",
   "id": "55fe5079-e8e6-4cd2-afb5-9296b9d6ff66",
   "metadata": {
    "jp-MarkdownHeadingCollapsed": true
   },
   "source": [
    "#### Length Mismatch in Pandas When using Series\n",
    "\n",
    "When assigning a new column in a DataFrame, the behavior differs based on whether you use a `Series` or a `list`:\n",
    "\n",
    "- **Using a `Series`**:  \n",
    "  If the length of the `Series` does not match the length of the DataFrame's index, missing rows are filled with `NaN`.\n",
    "  ```python\n",
    "  import pandas as pd\n",
    "  df = pd.DataFrame({\"A\": [1, 2, 3]})\n",
    "  series = pd.Series([10, 20])  # Length is shorter\n",
    "  df[\"B\"] = series  # Remaining rows are filled with NaN\n",
    "  print(df)\n"
   ]
  },
  {
   "cell_type": "markdown",
   "id": "e055a33d-04b0-4ae2-bd6c-6230f5cb69b7",
   "metadata": {},
   "source": [
    "#### Length Mismatch When Using a List in Pandas\n",
    "\n",
    "When assigning a new column in a Pandas DataFrame using a `list`, the length of the list **must match** the length of the DataFrame's index. If it doesn't, Pandas raises a `ValueError`.\n",
    "\n",
    "#### Example:\n",
    "```python\n",
    "import pandas as pd\n",
    "df = pd.DataFrame({\"A\": [1, 2, 3]})\n",
    "\n",
    "# Incorrect: List length does not match DataFrame index\n",
    "df[\"B\"] = [10, 20]  # Raises ValueError\n"
   ]
  },
  {
   "cell_type": "code",
   "execution_count": null,
   "id": "742ab778-cf4c-4ed2-997a-135460716247",
   "metadata": {},
   "outputs": [],
   "source": [
    "# 1.Column from series\n",
    "seats_column = pd.Series([5,4,3,4,2])"
   ]
  },
  {
   "cell_type": "code",
   "execution_count": null,
   "id": "0350f662-f408-4ae1-9858-095bffa47fce",
   "metadata": {},
   "outputs": [],
   "source": [
    "car_sales = pd.read_csv(\"car-sales.csv\")\n",
    "\n",
    "# Add column/series to the data-frame\n",
    "car_sales['Seats'] = seats_column"
   ]
  },
  {
   "cell_type": "markdown",
   "id": "5ed618af-5a8c-4c44-b1b9-09c88c01d4d7",
   "metadata": {},
   "source": [
    "#### Attribute Access Warning in Pandas\n",
    "\n",
    "Pandas does not allow creating or modifying columns using attribute-style access (e.g., `df.column_name = value`). Instead, use bracket notation:\n",
    "\n",
    "##### Correct Syntax:\n",
    "```python\n",
    "df['column_name'] = value\n"
   ]
  },
  {
   "cell_type": "code",
   "execution_count": null,
   "id": "5d997826-ba7c-4131-8dcd-76018f0a779c",
   "metadata": {},
   "outputs": [],
   "source": [
    "# view the new data-frame\n",
    "car_sales;"
   ]
  },
  {
   "cell_type": "code",
   "execution_count": null,
   "id": "e48d10e2-c76f-4326-a568-9189ad7d36db",
   "metadata": {},
   "outputs": [],
   "source": [
    "# fill the NaN values - review\n",
    "car_sales.fillna({\"Seats\": 4}, inplace=True)\n",
    "                \n",
    "# car_sales[\"Seats\"].fillna(4, inplace=True)\n",
    "# - no longer applicable in pandas 3.0\n",
    "\n",
    "car_sales;"
   ]
  },
  {
   "cell_type": "markdown",
   "id": "f1e63ce2-c4e1-4c74-9bd2-77a23dcca3c4",
   "metadata": {},
   "source": [
    "#### Chained Assignment Warning in Pandas\n",
    "\n",
    "When using `inplace=True` on a column, Pandas raises a warning because chained assignments create intermediate objects, which behave as copies. This will be deprecated in Pandas 3.0.\n",
    "\n",
    "#### Correct Approaches:\n",
    "1. **Reassign the result back to the column**:\n",
    "   ```python\n",
    "   df[\"column\"] = df[\"column\"].fillna(value)\n",
    "\n",
    "   or\n",
    "\n",
    "   car_sales.fillna({\"Seats\": 4}, inplace=True)\n",
    "\n"
   ]
  },
  {
   "cell_type": "code",
   "execution_count": null,
   "id": "7e1f6fca-454b-4bdd-8d38-b005ac756f6d",
   "metadata": {},
   "outputs": [],
   "source": [
    "# 2. column from a list\n",
    "fuel_econmy = [6.4, 3, 5.6, 5.5,3,43,56,7,8,9]"
   ]
  },
  {
   "cell_type": "code",
   "execution_count": null,
   "id": "f7856e7f-91c3-44a9-9309-903365604ab5",
   "metadata": {},
   "outputs": [],
   "source": [
    "car_sales[\"Fuel per 100km\"] = fuel_econmy"
   ]
  },
  {
   "cell_type": "code",
   "execution_count": null,
   "id": "d023ddd4-a524-467d-9f48-cf6f49e86d4b",
   "metadata": {},
   "outputs": [],
   "source": [
    "car_sales;"
   ]
  },
  {
   "cell_type": "code",
   "execution_count": null,
   "id": "969d229c-e382-4f11-8b36-1044b1ae1085",
   "metadata": {},
   "outputs": [],
   "source": [
    "# 3. Creating a column using other columns\n",
    "car_sales[\"total fuel used\"] = car_sales[\"Odometer (KM)\"]/100 * car_sales[\"Fuel per 100km\"]"
   ]
  },
  {
   "cell_type": "code",
   "execution_count": null,
   "id": "02998c8a-8c6e-4d20-b169-7a163b0b614d",
   "metadata": {},
   "outputs": [],
   "source": [
    "car_sales;"
   ]
  },
  {
   "cell_type": "code",
   "execution_count": null,
   "id": "5ad7fd39-f9e2-4b4d-9919-b2588ebac101",
   "metadata": {},
   "outputs": [],
   "source": [
    "# 4. Creating a column from a singlr value\n",
    "car_sales[\"Total wheels\"] = 4"
   ]
  },
  {
   "cell_type": "code",
   "execution_count": null,
   "id": "3c2999c0-cfad-4e21-bc44-ed7c83044b56",
   "metadata": {},
   "outputs": [],
   "source": [
    "car_sales;"
   ]
  },
  {
   "cell_type": "code",
   "execution_count": null,
   "id": "f14237e7-87a5-4e66-8a35-221e5e8a12a5",
   "metadata": {},
   "outputs": [],
   "source": [
    "car_sales[\"passed safety\"] = True"
   ]
  },
  {
   "cell_type": "code",
   "execution_count": 284,
   "id": "29dd94d0-0e5c-4719-9e86-c030e37e0f71",
   "metadata": {},
   "outputs": [],
   "source": [
    "car_sales;"
   ]
  },
  {
   "cell_type": "code",
   "execution_count": null,
   "id": "3df5a1b9-8181-4e65-965c-1a07e28f42f6",
   "metadata": {},
   "outputs": [],
   "source": [
    "car_sales.dtypes;"
   ]
  },
  {
   "cell_type": "markdown",
   "id": "bcbb7def-b64c-4c2b-aff5-9e2e940bc430",
   "metadata": {},
   "source": [
    "#### 6.5 Removing a column"
   ]
  },
  {
   "cell_type": "code",
   "execution_count": 285,
   "id": "02518c6f-fdab-4877-a6b8-7b1dd1602100",
   "metadata": {},
   "outputs": [],
   "source": [
    "car_sales = car_sales.drop(\"passed safety\", axis=1)"
   ]
  },
  {
   "cell_type": "code",
   "execution_count": 288,
   "id": "fae4c4a1-ef0b-4710-861c-8e72d86decc4",
   "metadata": {},
   "outputs": [],
   "source": [
    "car_sales;"
   ]
  },
  {
   "cell_type": "markdown",
   "id": "ce0b9b9e-fb59-450c-90d5-9f1260f2c842",
   "metadata": {},
   "source": [
    "#### 6.6 Randomizer"
   ]
  },
  {
   "cell_type": "code",
   "execution_count": 306,
   "id": "1f565b31-e71a-4080-939c-3197e187b4ab",
   "metadata": {},
   "outputs": [],
   "source": [
    "car_sales= pd.read_csv(\"car-sales.csv\")"
   ]
  },
  {
   "cell_type": "code",
   "execution_count": 307,
   "id": "11d25af4-e52f-47b4-bca7-ae0be5130380",
   "metadata": {},
   "outputs": [],
   "source": [
    "# Shuffle and select a certain number of rows\n",
    "car_sales_shuffled = car_sales.sample(frac=1)\n",
    "car_sales_shuffled;"
   ]
  },
  {
   "cell_type": "markdown",
   "id": "2f66f23e-37b6-4f4b-925c-28ab8aab21ab",
   "metadata": {},
   "source": [
    "#### `frac` Parameter in `sample`\n",
    "\n",
    "- **Purpose**: Specifies the fraction of the DataFrame to sample.\n",
    "- **Value**: A float between `0` and `1` (e.g., `frac=0.5` samples 50% of rows).\n",
    "- **Example**:\n",
    "  ```python\n",
    "  car_sales.sample(frac=1)  # Randomly shuffles all rows (100% of the DataFrame)\n"
   ]
  },
  {
   "cell_type": "markdown",
   "id": "ed8bcf20-4cfe-4cc2-bd4f-e882313f1d4e",
   "metadata": {},
   "source": [
    "#### Sampling a Subset of Data with `.sample`\n",
    "\n",
    "When working with large datasets, processing all rows can be inefficient. Use `.sample()` with the `frac` parameter to work on a smaller subset.\n",
    "\n",
    "- **Purpose**: Select a fraction of the DataFrame for efficient testing or analysis.\n",
    "- **Example**:\n",
    "  ```python\n",
    "  # Work on 1% of a 2 million-row dataset\n",
    "  sample_data = df.sample(frac=0.01)\n"
   ]
  },
  {
   "cell_type": "markdown",
   "id": "8542a8b8-c323-4caf-a482-77b76e02c3bf",
   "metadata": {},
   "source": [
    "#### 6.7 Reset "
   ]
  },
  {
   "cell_type": "code",
   "execution_count": 310,
   "id": "fc1ef909-6f8c-406d-aebf-37fdc54d393e",
   "metadata": {},
   "outputs": [],
   "source": [
    "# reset the index\n",
    "car_sales_shuffled.reset_index(drop=True, inplace=True)"
   ]
  },
  {
   "cell_type": "markdown",
   "id": "72c57871-6ac4-4f73-9648-904247e90834",
   "metadata": {},
   "source": [
    "By default drop is false, so the shuffled index is not droped, set it to true"
   ]
  },
  {
   "cell_type": "code",
   "execution_count": 312,
   "id": "5d461cf4-0e9c-42b2-87e7-2cdf0f1779e0",
   "metadata": {},
   "outputs": [],
   "source": [
    "car_sales_shuffled;"
   ]
  },
  {
   "cell_type": "markdown",
   "id": "30bc6fb5-09d7-440e-9415-17d8a654e0ac",
   "metadata": {},
   "source": [
    "#### 6.8 Lambda"
   ]
  },
  {
   "cell_type": "code",
   "execution_count": 313,
   "id": "e7bee70c-dbd6-46f0-ab4b-259f5c9b48da",
   "metadata": {},
   "outputs": [],
   "source": [
    "# Lets convert km to miles\n",
    "car_sales[\"miles\"] = car_sales[\"Odometer (KM)\"].apply(lambda speed: speed/1.6)"
   ]
  },
  {
   "cell_type": "code",
   "execution_count": 315,
   "id": "87de2b33-bba6-4e6a-9eb4-f8da457e9433",
   "metadata": {},
   "outputs": [],
   "source": [
    "car_sales;"
   ]
  },
  {
   "cell_type": "markdown",
   "id": "09593226-737d-4be6-a75a-86a66c286a57",
   "metadata": {},
   "source": [
    "# The End"
   ]
  }
 ],
 "metadata": {
  "kernelspec": {
   "display_name": "Python 3 (ipykernel)",
   "language": "python",
   "name": "python3"
  },
  "language_info": {
   "codemirror_mode": {
    "name": "ipython",
    "version": 3
   },
   "file_extension": ".py",
   "mimetype": "text/x-python",
   "name": "python",
   "nbconvert_exporter": "python",
   "pygments_lexer": "ipython3",
   "version": "3.12.7"
  }
 },
 "nbformat": 4,
 "nbformat_minor": 5
}
