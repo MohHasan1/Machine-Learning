{
 "cells": [
  {
   "cell_type": "markdown",
   "id": "a69443e3-3d42-40a7-8656-5b63c65baede",
   "metadata": {},
   "source": [
    "#### 3. Choosing the right estimator/algorithm for your problem"
   ]
  },
  {
   "cell_type": "markdown",
   "id": "511fb567-6f71-4146-ab77-7a2397521922",
   "metadata": {},
   "source": [
    "Some things to note:\n",
    "\n",
    "- Sklearn refers to machine learning models, algorithms as estimators.\n",
    "- Classification problem - predicting a category (heart disease or not)\n",
    "    - Sometimes you'll see clf (short for classifier) used as a classification estimator\n",
    "- Regression problem - predicting a number (selling price of a car)\n",
    "  \n",
    "If you're working on a machine learning problem and looking to use Sklearn and not sure what model you should use, refer to the sklearn machine learning map: https://scikit-learn.org/stable/tutorial/machine_learning_map/index.html\n"
   ]
  },
  {
   "cell_type": "markdown",
   "id": "f0bfcc95-6384-4eec-941a-445b166e3845",
   "metadata": {},
   "source": [
    "map... https://scikit-learn.org/stable/tutorial/machine_learning_map/index.html"
   ]
  },
  {
   "cell_type": "markdown",
   "id": "722b2163-5a6a-4988-a431-98c39b6fb49b",
   "metadata": {},
   "source": [
    "##### Picking a machine learning model for a regression problem"
   ]
  },
  {
   "cell_type": "markdown",
   "id": "137fed36-59f1-4fad-a5d3-ceb70b564741",
   "metadata": {},
   "source": [
    "Let's use the California Housing dataset - https://scikit-learn.org/stable/modules/generated/sklearn.datasets.fetch_california_housing.html"
   ]
  },
  {
   "cell_type": "markdown",
   "id": "57b9698c-58d2-4a47-bf71-6d127927ebf1",
   "metadata": {},
   "source": [
    "## 1-Regression"
   ]
  },
  {
   "cell_type": "code",
   "execution_count": 2,
   "id": "98e8574f-02d5-44d1-8d7a-b3793a962a57",
   "metadata": {},
   "outputs": [],
   "source": [
    "# Standard imports\n",
    "# %matplotlib inline # No longer required in newer versions of Jupyter (2022+)\n",
    "import matplotlib.pyplot as plt\n",
    "import numpy as np\n",
    "import pandas as pd"
   ]
  },
  {
   "cell_type": "code",
   "execution_count": 40,
   "id": "5b94bb23-0754-49e7-8e6f-8158599b551a",
   "metadata": {},
   "outputs": [],
   "source": [
    "# Get California Housing dataset\n",
    "from sklearn.datasets import fetch_california_housing\n",
    "housing = fetch_california_housing()\n",
    "\n",
    "# does not return the data directly - has other info to, we need to extract the dataset\n",
    "housing;"
   ]
  },
  {
   "cell_type": "code",
   "execution_count": 41,
   "id": "832f5249-f2b0-4906-b22a-299e109a835c",
   "metadata": {},
   "outputs": [
    {
     "data": {
      "text/html": [
       "<div>\n",
       "<style scoped>\n",
       "    .dataframe tbody tr th:only-of-type {\n",
       "        vertical-align: middle;\n",
       "    }\n",
       "\n",
       "    .dataframe tbody tr th {\n",
       "        vertical-align: top;\n",
       "    }\n",
       "\n",
       "    .dataframe thead th {\n",
       "        text-align: right;\n",
       "    }\n",
       "</style>\n",
       "<table border=\"1\" class=\"dataframe\">\n",
       "  <thead>\n",
       "    <tr style=\"text-align: right;\">\n",
       "      <th></th>\n",
       "      <th>MedInc</th>\n",
       "      <th>HouseAge</th>\n",
       "      <th>AveRooms</th>\n",
       "      <th>AveBedrms</th>\n",
       "      <th>Population</th>\n",
       "      <th>AveOccup</th>\n",
       "      <th>Latitude</th>\n",
       "      <th>Longitude</th>\n",
       "    </tr>\n",
       "  </thead>\n",
       "  <tbody>\n",
       "    <tr>\n",
       "      <th>0</th>\n",
       "      <td>8.3252</td>\n",
       "      <td>41.0</td>\n",
       "      <td>6.984127</td>\n",
       "      <td>1.02381</td>\n",
       "      <td>322.0</td>\n",
       "      <td>2.555556</td>\n",
       "      <td>37.88</td>\n",
       "      <td>-122.23</td>\n",
       "    </tr>\n",
       "    <tr>\n",
       "      <th>1</th>\n",
       "      <td>8.3014</td>\n",
       "      <td>21.0</td>\n",
       "      <td>6.238137</td>\n",
       "      <td>0.97188</td>\n",
       "      <td>2401.0</td>\n",
       "      <td>2.109842</td>\n",
       "      <td>37.86</td>\n",
       "      <td>-122.22</td>\n",
       "    </tr>\n",
       "  </tbody>\n",
       "</table>\n",
       "</div>"
      ],
      "text/plain": [
       "   MedInc  HouseAge  AveRooms  AveBedrms  Population  AveOccup  Latitude  \\\n",
       "0  8.3252      41.0  6.984127    1.02381       322.0  2.555556     37.88   \n",
       "1  8.3014      21.0  6.238137    0.97188      2401.0  2.109842     37.86   \n",
       "\n",
       "   Longitude  \n",
       "0    -122.23  \n",
       "1    -122.22  "
      ]
     },
     "execution_count": 41,
     "metadata": {},
     "output_type": "execute_result"
    }
   ],
   "source": [
    "# Extracting the data (data and columns are seperate - create a data frame)\n",
    "housing_df = pd.DataFrame(housing[\"data\"], columns=housing[\"feature_names\"])\n",
    "housing_df.head(2)"
   ]
  },
  {
   "cell_type": "code",
   "execution_count": 43,
   "id": "890d627f-e46f-4fad-a167-7e1c2b6b39dd",
   "metadata": {},
   "outputs": [
    {
     "data": {
      "text/html": [
       "<div>\n",
       "<style scoped>\n",
       "    .dataframe tbody tr th:only-of-type {\n",
       "        vertical-align: middle;\n",
       "    }\n",
       "\n",
       "    .dataframe tbody tr th {\n",
       "        vertical-align: top;\n",
       "    }\n",
       "\n",
       "    .dataframe thead th {\n",
       "        text-align: right;\n",
       "    }\n",
       "</style>\n",
       "<table border=\"1\" class=\"dataframe\">\n",
       "  <thead>\n",
       "    <tr style=\"text-align: right;\">\n",
       "      <th></th>\n",
       "      <th>MedInc</th>\n",
       "      <th>HouseAge</th>\n",
       "      <th>AveRooms</th>\n",
       "      <th>AveBedrms</th>\n",
       "      <th>Population</th>\n",
       "      <th>AveOccup</th>\n",
       "      <th>Latitude</th>\n",
       "      <th>Longitude</th>\n",
       "      <th>target</th>\n",
       "    </tr>\n",
       "  </thead>\n",
       "  <tbody>\n",
       "    <tr>\n",
       "      <th>0</th>\n",
       "      <td>8.3252</td>\n",
       "      <td>41.0</td>\n",
       "      <td>6.984127</td>\n",
       "      <td>1.02381</td>\n",
       "      <td>322.0</td>\n",
       "      <td>2.555556</td>\n",
       "      <td>37.88</td>\n",
       "      <td>-122.23</td>\n",
       "      <td>4.526</td>\n",
       "    </tr>\n",
       "    <tr>\n",
       "      <th>1</th>\n",
       "      <td>8.3014</td>\n",
       "      <td>21.0</td>\n",
       "      <td>6.238137</td>\n",
       "      <td>0.97188</td>\n",
       "      <td>2401.0</td>\n",
       "      <td>2.109842</td>\n",
       "      <td>37.86</td>\n",
       "      <td>-122.22</td>\n",
       "      <td>3.585</td>\n",
       "    </tr>\n",
       "  </tbody>\n",
       "</table>\n",
       "</div>"
      ],
      "text/plain": [
       "   MedInc  HouseAge  AveRooms  AveBedrms  Population  AveOccup  Latitude  \\\n",
       "0  8.3252      41.0  6.984127    1.02381       322.0  2.555556     37.88   \n",
       "1  8.3014      21.0  6.238137    0.97188      2401.0  2.109842     37.86   \n",
       "\n",
       "   Longitude  target  \n",
       "0    -122.23   4.526  \n",
       "1    -122.22   3.585  "
      ]
     },
     "execution_count": 43,
     "metadata": {},
     "output_type": "execute_result"
    }
   ],
   "source": [
    "# Add the target - (its not added bt default - comes seperately)\n",
    "housing_df[\"target\"] = housing[\"target\"]\n",
    "housing_df.head(2)"
   ]
  },
  {
   "cell_type": "markdown",
   "id": "78ad0030-1bfb-46cc-8ce9-38537843607a",
   "metadata": {},
   "source": [
    "Lets make the model"
   ]
  },
  {
   "cell_type": "code",
   "execution_count": null,
   "id": "63837288-2f10-4cb1-bdb8-5ba468013159",
   "metadata": {},
   "outputs": [],
   "source": [
    "# Import algorithm/estimator\n",
    "from sklearn.linear_model import Ridge\n",
    "from sklearn.model_selection import train_test_split\n",
    "\n",
    "# Setup random seed\n",
    "np.random.seed(42)\n",
    "\n",
    "# Create the data\n",
    "X = housing_df.drop(\"target\", axis=1)\n",
    "y = housing_df[\"target\"] # median house price in $100,000s\n",
    "\n",
    "# Split into train and test sets\n",
    "X_train, X_test, y_train, y_test = train_test_split(X, y, test_size=0.2)\n",
    "\n",
    "# Instantiate and fit the model (on the training set)\n",
    "model = Ridge()\n",
    "model.fit(X_train, y_train);"
   ]
  },
  {
   "cell_type": "code",
   "execution_count": null,
   "id": "f4fbfed3-9a02-43f1-ac66-4f47191bdf48",
   "metadata": {},
   "outputs": [],
   "source": [
    "# Check the score of the model (on the test set)\n",
    "model.score(X_test, y_test) # co-efficient of determination"
   ]
  },
  {
   "cell_type": "markdown",
   "id": "afb66344-5dc9-4448-b068-59bbf394a221",
   "metadata": {},
   "source": [
    "What if Ridge didn't work or the score didn't fit our needs?\n",
    "\n",
    "Well, we could always try a different model...\n",
    "\n",
    "How about we try an ensemble model (an ensemble is combination of smaller models to try and make better predictions than just a single model)?\n",
    "\n",
    "Sklearn's ensemble models can be found here: https://scikit-learn.org/stable/modules/ensemble.html"
   ]
  },
  {
   "cell_type": "code",
   "execution_count": null,
   "id": "9a5d4972-5a4b-402b-b023-572346735c96",
   "metadata": {},
   "outputs": [],
   "source": [
    "# Import the RandomForestRegressor model class from the ensemble module\n",
    "from sklearn.ensemble import RandomForestRegressor\n",
    "\n",
    "# Setup random seed\n",
    "np.random.seed(42)\n",
    "\n",
    "# Create the data\n",
    "X = housing_df.drop(\"target\", axis=1)\n",
    "y = housing_df[\"target\"]\n",
    "\n",
    "# Split into train and test sets\n",
    "X_train, X_test, y_train, y_test = train_test_split(X, y, test_size=0.2)\n",
    "\n",
    "# Create random forest model - chnages here\n",
    "model = RandomForestRegressor()\n",
    "model.fit(X_train, y_train);"
   ]
  },
  {
   "cell_type": "code",
   "execution_count": null,
   "id": "7fd4f75d-023a-4540-a1b2-2d96b8fef430",
   "metadata": {},
   "outputs": [],
   "source": [
    "# Check the score of the model (on the test set)\n",
    "model.score(X_test, y_test # seems like a better score"
   ]
  },
  {
   "cell_type": "markdown",
   "id": "0c3c0865-ccae-4c94-af05-c1394a9841d7",
   "metadata": {},
   "source": [
    "## 2-Classification"
   ]
  },
  {
   "cell_type": "markdown",
   "id": "41c4004f-3f22-4828-8920-553d84cd4d6e",
   "metadata": {},
   "source": [
    "To decide on a classification model we can use the sk-learn map: https://scikit-learn.org/stable/tutorial/machine_learning_map/index.html"
   ]
  },
  {
   "cell_type": "code",
   "execution_count": 11,
   "id": "645b934a-d14a-4e78-bc53-1f50f72affc9",
   "metadata": {},
   "outputs": [],
   "source": [
    "# import the data\n",
    "heart_disease = pd.read_csv(\"data/heart-disease.csv\")\n",
    "\n",
    "# changing the index (opt)\n",
    "index = range(1, len(heart_disease)+1)\n",
    "heart_disease.index= index\n",
    "\n",
    "# View top rows\n",
    "heart_disease.head(1); "
   ]
  },
  {
   "cell_type": "code",
   "execution_count": 18,
   "id": "7c07ae4d-3b23-4af8-9a5e-a5f5f559c1ac",
   "metadata": {},
   "outputs": [],
   "source": [
    "heart_disease[\"target\"].value_counts();"
   ]
  },
  {
   "cell_type": "markdown",
   "id": "e27af216-0de1-42fd-8cdb-f639b4ea4e3f",
   "metadata": {},
   "source": [
    "Consulting the map and it says to try LinearSVC."
   ]
  },
  {
   "cell_type": "code",
   "execution_count": 16,
   "id": "0cfd9c6b-d330-4ada-8124-370b51f0348f",
   "metadata": {},
   "outputs": [
    {
     "data": {
      "text/plain": [
       "0.8688524590163934"
      ]
     },
     "execution_count": 16,
     "metadata": {},
     "output_type": "execute_result"
    }
   ],
   "source": [
    "# Import the LinearSVC estimator class\n",
    "from sklearn.svm import LinearSVC\n",
    "from sklearn.model_selection import train_test_split\n",
    "\n",
    "# Setup random seed - to get same randomness\n",
    "np.random.seed(42)\n",
    "\n",
    "# Make the data (X -label, y - features)\n",
    "X = heart_disease.drop(\"target\", axis=1)\n",
    "y = heart_disease[\"target\"]\n",
    "\n",
    "# Split the data (test and train)\n",
    "X_train, X_test, y_train, y_test = train_test_split(X, y, test_size=0.2)\n",
    "\n",
    "# Instantiate LinearSVC and fit the model\n",
    "clf = LinearSVC(max_iter=100)\n",
    "clf.fit(X_train, y_train)\n",
    "\n",
    "# Evaluate the LinearSVC\n",
    "clf.score(X_test, y_test)"
   ]
  },
  {
   "cell_type": "markdown",
   "id": "09c2fbad-70ce-4eaa-8190-763b505a753a",
   "metadata": {},
   "source": [
    "Using RandomForest classfier"
   ]
  },
  {
   "cell_type": "code",
   "execution_count": 19,
   "id": "c6f707f8-f1f4-4b87-9226-18a5ed36a3b8",
   "metadata": {},
   "outputs": [
    {
     "data": {
      "text/plain": [
       "0.8524590163934426"
      ]
     },
     "execution_count": 19,
     "metadata": {},
     "output_type": "execute_result"
    }
   ],
   "source": [
    "# Import the RandomForestClassifier estimator class\n",
    "from sklearn.ensemble import RandomForestClassifier\n",
    "\n",
    "# Setup random seed\n",
    "np.random.seed(42)\n",
    "\n",
    "# Make the data\n",
    "X = heart_disease.drop(\"target\", axis=1)\n",
    "y = heart_disease[\"target\"]\n",
    "\n",
    "# Split the data\n",
    "X_train, X_test, y_train, y_test = train_test_split(X, y, test_size=0.2)\n",
    "\n",
    "# Instantiate Random Forest Classifier\n",
    "clf = RandomForestClassifier(n_estimators=100)\n",
    "clf.fit(X_train, y_train)\n",
    "\n",
    "# Evaluate the Random Forest Classifier\n",
    "clf.score(X_test, y_test)"
   ]
  },
  {
   "cell_type": "markdown",
   "id": "6b4a7ab2-d880-478e-9c54-5c3a2505f96e",
   "metadata": {},
   "source": [
    "Note: \n",
    "1. If you have structured data, used ensemble methods\n",
    "2. If you have unstructured data, use deep learning or transfer learning"
   ]
  },
  {
   "cell_type": "markdown",
   "id": "1d19d5a9-3c3a-4167-a35b-c6a7537da161",
   "metadata": {},
   "source": [
    "### 3-Fit the model/algorithm on our data and use it to make predictions"
   ]
  },
  {
   "cell_type": "markdown",
   "id": "229fadbe-d1b5-4b0f-871b-2ae33fd1a2e2",
   "metadata": {},
   "source": [
    "##### 3.1 Fitting the model to the data"
   ]
  },
  {
   "cell_type": "markdown",
   "id": "364b2536-9f6a-4bd8-a67f-e1a816cc59f2",
   "metadata": {},
   "source": [
    "Different names for label and features:\n",
    "\n",
    "    X = features, features variables, data\n",
    "    y = labels, targets, target variables"
   ]
  },
  {
   "cell_type": "code",
   "execution_count": 21,
   "id": "61b0b1ad-9f90-4041-8c46-3ae75509ec48",
   "metadata": {},
   "outputs": [],
   "source": [
    "# Import the RandomForestClassifier estimator class\n",
    "from sklearn.ensemble import RandomForestClassifier\n",
    "\n",
    "# Setup random seed\n",
    "np.random.seed(42)\n",
    "\n",
    "# Make the data\n",
    "X = heart_disease.drop(\"target\", axis=1)\n",
    "y = heart_disease[\"target\"]\n",
    "\n",
    "# Split the data\n",
    "X_train, X_test, y_train, y_test = train_test_split(X, y, test_size=0.2)"
   ]
  },
  {
   "cell_type": "markdown",
   "id": "01ee327f-408a-46ae-a1d4-4bf4be9eb9ae",
   "metadata": {},
   "source": [
    "Make the model object and then fit it"
   ]
  },
  {
   "cell_type": "code",
   "execution_count": 24,
   "id": "22fb6614-9aca-4aad-a2af-3c624b217f44",
   "metadata": {},
   "outputs": [],
   "source": [
    "# Instantiate Random Forest Classifier\n",
    "clf = RandomForestClassifier(n_estimators=100)\n",
    "\n",
    "# Fit the model to the data (training the machine learning model)\n",
    "clf.fit(X_train, y_train);"
   ]
  },
  {
   "cell_type": "code",
   "execution_count": 25,
   "id": "632eaa8d-ce71-4935-9c8a-9d3a11638ef5",
   "metadata": {},
   "outputs": [
    {
     "data": {
      "text/plain": [
       "0.8688524590163934"
      ]
     },
     "execution_count": 25,
     "metadata": {},
     "output_type": "execute_result"
    }
   ],
   "source": [
    "# Evaluate the Random Forest Classifier (use the patterns the model has learned)\n",
    "clf.score(X_test, y_test)"
   ]
  },
  {
   "cell_type": "markdown",
   "id": "8216e676-8c23-423a-af31-e52491f9ee51",
   "metadata": {},
   "source": [
    "3.2 Make predictions using a machine learning model"
   ]
  },
  {
   "cell_type": "markdown",
   "id": "57531a27-da59-429f-9863-5ac315d21c8c",
   "metadata": {},
   "source": [
    "2 ways to make predictions:\n",
    "\n",
    "    `predict()`\n",
    "    `predict_proba()`"
   ]
  },
  {
   "cell_type": "code",
   "execution_count": 31,
   "id": "0a4803a4-4a18-4390-8c30-e7ed3ba9a655",
   "metadata": {},
   "outputs": [],
   "source": [
    "# Use a trained model to make predictions (predict takes in features - preferably test_data - and outouts labels (predicted))\n",
    "clf.predict(X_test);"
   ]
  },
  {
   "cell_type": "code",
   "execution_count": 32,
   "id": "66de98bc-676d-4c06-950b-a62bf9dd1a97",
   "metadata": {},
   "outputs": [],
   "source": [
    "# actual labels of the test data\n",
    "pd.array(y_test);"
   ]
  },
  {
   "cell_type": "code",
   "execution_count": 33,
   "id": "21603440-6716-424f-8317-f82742ecff03",
   "metadata": {},
   "outputs": [
    {
     "data": {
      "text/plain": [
       "0.8688524590163934"
      ]
     },
     "execution_count": 33,
     "metadata": {},
     "output_type": "execute_result"
    }
   ],
   "source": [
    "# Compare predictions to truth labels to evaluate the model - method -1 \n",
    "y_preds = clf.predict(X_test)\n",
    "np.mean(y_preds == y_test)"
   ]
  },
  {
   "cell_type": "code",
   "execution_count": 34,
   "id": "0c28915b-a89c-4a83-b941-29749b27c231",
   "metadata": {},
   "outputs": [
    {
     "data": {
      "text/plain": [
       "0.8688524590163934"
      ]
     },
     "execution_count": 34,
     "metadata": {},
     "output_type": "execute_result"
    }
   ],
   "source": [
    "# method - 2 (use this)\n",
    "clf.score(X_test, y_test)"
   ]
  },
  {
   "cell_type": "code",
   "execution_count": 35,
   "id": "3c4b259b-13b1-4de0-85e5-6eecb8cbdc9e",
   "metadata": {},
   "outputs": [
    {
     "data": {
      "text/plain": [
       "0.8688524590163934"
      ]
     },
     "execution_count": 35,
     "metadata": {},
     "output_type": "execute_result"
    }
   ],
   "source": [
    "# method - 3\n",
    "from sklearn.metrics import accuracy_score\n",
    "accuracy_score(y_test, y_preds)"
   ]
  },
  {
   "cell_type": "markdown",
   "id": "4fedc3f2-5005-4bad-b89f-4e5bca901e5e",
   "metadata": {},
   "source": [
    "Make predictions with predict_proba() - use this if someone asks you \"what's the probability your model is assigning to each prediction?\""
   ]
  },
  {
   "cell_type": "code",
   "execution_count": 37,
   "id": "33f70b10-dacd-44e4-851a-b8be86a26ed5",
   "metadata": {},
   "outputs": [
    {
     "data": {
      "text/plain": [
       "array([[0.87, 0.13],\n",
       "       [0.4 , 0.6 ],\n",
       "       [0.4 , 0.6 ],\n",
       "       [0.92, 0.08],\n",
       "       [0.21, 0.79]])"
      ]
     },
     "execution_count": 37,
     "metadata": {},
     "output_type": "execute_result"
    }
   ],
   "source": [
    "# predict_proba() returns probabilities of a classification label (first 5)\n",
    "clf.predict_proba(X_test[0:5])\n",
    "#      [0    ,1   ]"
   ]
  },
  {
   "cell_type": "code",
   "execution_count": 38,
   "id": "b11528be-9a46-4cd8-9738-2803814ffb7b",
   "metadata": {},
   "outputs": [
    {
     "data": {
      "text/plain": [
       "array([0, 1, 1, 0, 1], dtype=int64)"
      ]
     },
     "execution_count": 38,
     "metadata": {},
     "output_type": "execute_result"
    }
   ],
   "source": [
    "clf.predict(X_test[0:5])"
   ]
  },
  {
   "cell_type": "markdown",
   "id": "579bc5ed-605d-4ee4-bb09-b5868c8ef3bf",
   "metadata": {},
   "source": [
    "The default threshold is 0.5"
   ]
  },
  {
   "cell_type": "markdown",
   "id": "61cf26bd-59e5-491e-80b1-4d12d946373c",
   "metadata": {},
   "source": [
    "predict() can also be used for regression models."
   ]
  },
  {
   "cell_type": "code",
   "execution_count": 44,
   "id": "2daf2765-b801-4a3d-b3b5-6961a9941ac9",
   "metadata": {},
   "outputs": [],
   "source": [
    "from sklearn.ensemble import RandomForestRegressor\n",
    "\n",
    "np.random.seed(42)\n",
    "\n",
    "# Create the data - make sure to run run the 2 and 3 cells to import the dataset\n",
    "X = housing_df.drop(\"target\", axis=1)\n",
    "y = housing_df[\"target\"]\n",
    "\n",
    "# Split into training and test sets\n",
    "X_train, X_test, y_train, y_test = train_test_split(X, y, test_size=0.2)\n",
    "\n",
    "# Create model instance\n",
    "model = RandomForestRegressor()\n",
    "# Fit the model to the data\n",
    "model.fit(X_train, y_train)\n",
    "\n",
    "# Make predictions\n",
    "y_preds = model.predict(X_test)"
   ]
  },
  {
   "cell_type": "code",
   "execution_count": 45,
   "id": "a48ab019-6b12-4d45-983e-4b7170a0a225",
   "metadata": {},
   "outputs": [
    {
     "data": {
      "text/plain": [
       "array([0.49384  , 0.75494  , 4.9285964, 2.54316  , 2.33176  ])"
      ]
     },
     "execution_count": 45,
     "metadata": {},
     "output_type": "execute_result"
    }
   ],
   "source": [
    "y_preds[0:5]"
   ]
  },
  {
   "cell_type": "code",
   "execution_count": 46,
   "id": "55016d28-91f3-4889-8fc0-3e2db077b84e",
   "metadata": {},
   "outputs": [
    {
     "data": {
      "text/plain": [
       "array([0.477  , 0.458  , 5.00001, 2.186  , 2.78   ])"
      ]
     },
     "execution_count": 46,
     "metadata": {},
     "output_type": "execute_result"
    }
   ],
   "source": [
    "np.array(y_test[0:5])"
   ]
  },
  {
   "cell_type": "code",
   "execution_count": 47,
   "id": "1664b4ed-d69b-451f-95b8-c37f4515aec7",
   "metadata": {},
   "outputs": [
    {
     "data": {
      "text/plain": [
       "0.32659871732073664"
      ]
     },
     "execution_count": 47,
     "metadata": {},
     "output_type": "execute_result"
    }
   ],
   "source": [
    "# Compare the predictions to the - method - 1 \n",
    "from sklearn.metrics import mean_absolute_error\n",
    "mean_absolute_error(y_test, y_preds)"
   ]
  },
  {
   "cell_type": "code",
   "execution_count": 51,
   "id": "3bb6fced-08d2-4394-8f89-bf2b3b954587",
   "metadata": {},
   "outputs": [
    {
     "data": {
      "text/plain": [
       "0.8065734772187598"
      ]
     },
     "execution_count": 51,
     "metadata": {},
     "output_type": "execute_result"
    }
   ],
   "source": [
    "from sklearn.metrics import r2_score\n",
    "r2_score(y_test, y_preds)"
   ]
  },
  {
   "cell_type": "code",
   "execution_count": 49,
   "id": "e6c96497-ba02-499b-afc1-f29a502d0c3b",
   "metadata": {},
   "outputs": [
    {
     "data": {
      "text/plain": [
       "0.8065734772187598"
      ]
     },
     "execution_count": 49,
     "metadata": {},
     "output_type": "execute_result"
    }
   ],
   "source": [
    "# method - 2 (use this)\n",
    "model.score(X_test, y_test)"
   ]
  },
  {
   "cell_type": "code",
   "execution_count": null,
   "id": "201389f3-0311-47fd-99d9-6bdbf8895623",
   "metadata": {},
   "outputs": [],
   "source": []
  }
 ],
 "metadata": {
  "kernelspec": {
   "display_name": "Python 3 (ipykernel)",
   "language": "python",
   "name": "python3"
  },
  "language_info": {
   "codemirror_mode": {
    "name": "ipython",
    "version": 3
   },
   "file_extension": ".py",
   "mimetype": "text/x-python",
   "name": "python",
   "nbconvert_exporter": "python",
   "pygments_lexer": "ipython3",
   "version": "3.12.7"
  }
 },
 "nbformat": 4,
 "nbformat_minor": 5
}
