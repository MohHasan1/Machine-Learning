{
 "cells": [
  {
   "cell_type": "code",
   "execution_count": null,
   "id": "b4890dd9-62bf-4a09-9b2d-36c486ad08c2",
   "metadata": {},
   "outputs": [],
   "source": [
    "# Standard imports\n",
    "import numpy as np\n",
    "import pandas as pd\n",
    "%matplotlib inline\n",
    "import matplotlib.pyplot as plt"
   ]
  },
  {
   "cell_type": "markdown",
   "id": "c1c8607a-c1aa-4280-bab9-a4069499227d",
   "metadata": {},
   "source": [
    "#### 1. Getting our data ready to be used with machine learning"
   ]
  },
  {
   "cell_type": "markdown",
   "id": "40a900cf-5c6d-496e-bfc4-046d539bf9d7",
   "metadata": {},
   "source": [
    "Three main things we have to do: (not limited)\n",
    "1. Split the data into features and labels (usually X & y)\n",
    "2. Filling (also called imputing) or disregarding missing values\n",
    "3. Converting non-numerical values to numerical values (also called feature encoding)"
   ]
  },
  {
   "cell_type": "markdown",
   "id": "87698dee-988b-4f43-9c20-29215821711e",
   "metadata": {},
   "source": [
    "##### 1.1 Split the data"
   ]
  },
  {
   "cell_type": "code",
   "execution_count": null,
   "id": "781dc021-1aac-4974-b22f-150615093f22",
   "metadata": {},
   "outputs": [],
   "source": [
    "# Import the data set\n",
    "heart_disease = pd.read_csv(\"data/heart-disease.csv\")\n",
    "heart_disease.head(1)"
   ]
  },
  {
   "cell_type": "code",
   "execution_count": null,
   "id": "cef0afde-5a42-4736-a9ed-22f7e0576ff7",
   "metadata": {},
   "outputs": [],
   "source": [
    "# Choose the features and label\n",
    "x = heart_disease.drop(\"target\", axis=1)\n",
    "y = heart_disease.target"
   ]
  },
  {
   "cell_type": "code",
   "execution_count": null,
   "id": "4a32f495-7db4-47f3-bfb6-ba05279523ab",
   "metadata": {},
   "outputs": [],
   "source": [
    "# Split the the data into training and test sets\n",
    "from sklearn.model_selection import train_test_split\n",
    "x_train, x_test, y_train, y_test = train_test_split(x, y, test_size=0.3)"
   ]
  },
  {
   "cell_type": "code",
   "execution_count": null,
   "id": "91074eaa-9992-4870-960d-c94bccb29d68",
   "metadata": {},
   "outputs": [],
   "source": [
    "x.shape"
   ]
  },
  {
   "cell_type": "code",
   "execution_count": null,
   "id": "cad80fbf-49cd-4eb1-9e7b-aede03ee2e0a",
   "metadata": {},
   "outputs": [],
   "source": [
    "x_train.shape, x_test.shape, y_train.shape, y_test.shape"
   ]
  },
  {
   "cell_type": "markdown",
   "id": "670b6ea9-c08b-462a-904f-0995402bcb58",
   "metadata": {},
   "source": [
    "##### 1.2 Make sure all the features are numerical"
   ]
  },
  {
   "cell_type": "code",
   "execution_count": null,
   "id": "b3f751db-159c-4392-a9a3-6764b1759dc4",
   "metadata": {},
   "outputs": [],
   "source": [
    "# Import the data set\n",
    "car_sales = pd.read_csv(\"data/car-sales-extended.csv\")\n",
    "car_sales.head(1)"
   ]
  },
  {
   "cell_type": "code",
   "execution_count": null,
   "id": "cb258a09-9d86-47f2-ad53-dfa6d37eb426",
   "metadata": {},
   "outputs": [],
   "source": [
    "len(car_sales)"
   ]
  },
  {
   "cell_type": "code",
   "execution_count": null,
   "id": "b112be1e-399b-48a7-bd09-9515ebc5b5c4",
   "metadata": {},
   "outputs": [],
   "source": [
    "car_sales.dtypes"
   ]
  },
  {
   "cell_type": "code",
   "execution_count": null,
   "id": "a8f761ec-3115-40e6-b7d7-19dde9a697ee",
   "metadata": {},
   "outputs": [],
   "source": [
    "# Choose the features and label\n",
    "x = car_sales.drop(\"Price\", axis=1)\n",
    "y = car_sales.Price"
   ]
  },
  {
   "cell_type": "code",
   "execution_count": null,
   "id": "209986f1-87d1-41fc-b6e3-9fc5c42cf433",
   "metadata": {},
   "outputs": [],
   "source": [
    "# Split the the data into training and test sets\n",
    "from sklearn.model_selection import train_test_split\n",
    "\n",
    "x_train, x_test, y_train, y_test = train_test_split(x, y, test_size=0.2)"
   ]
  },
  {
   "cell_type": "code",
   "execution_count": null,
   "id": "d14f1890-ec5f-48cf-8d27-ba6a0fbc8824",
   "metadata": {},
   "outputs": [],
   "source": [
    "# Why doors is a categorial ? \n",
    "car_sales.Doors.value_counts();"
   ]
  },
  {
   "cell_type": "code",
   "execution_count": null,
   "id": "e38b5c45-0f19-421d-9dfb-303c24d769bb",
   "metadata": {},
   "outputs": [],
   "source": [
    "# 1.Turn the categories into numbers - using sklearn\n",
    "from sklearn.preprocessing import OneHotEncoder\n",
    "from sklearn.compose import ColumnTransformer\n",
    "\n",
    "categorial_features =  [\"Make\", \"Colour\", \"Doors\"]\n",
    "\n",
    "one_hot = OneHotEncoder()\n",
    "transformer = ColumnTransformer([(\"one_hot\", one_hot, categorial_features)], remainder=\"passthrough\")\n",
    "\n",
    "transformed_x = transformer.fit_transform(x)"
   ]
  },
  {
   "cell_type": "code",
   "execution_count": null,
   "id": "2481e206-263e-4a0d-a67e-5effd65493e5",
   "metadata": {},
   "outputs": [],
   "source": [
    "pd.DataFrame(transformed_x).head()"
   ]
  },
  {
   "cell_type": "code",
   "execution_count": null,
   "id": "5003c4c8-58e7-48ff-967b-67dfdf4386ce",
   "metadata": {},
   "outputs": [],
   "source": [
    "# 2.Turn the categories into numbers - using pandas.dummies\n",
    "categorial_features =  [\"Make\", \"Colour\", \"Doors\"]\n",
    "dummies = pd.get_dummies(car_sales[categorial_features])\n",
    "dummies.head()"
   ]
  },
  {
   "cell_type": "markdown",
   "id": "221bb059-584f-4795-a5b3-b60bd4375c92",
   "metadata": {},
   "source": [
    "##### 1.3 What if there were missing values?"
   ]
  },
  {
   "cell_type": "markdown",
   "id": "d48b6e5f-676a-4538-a234-4bfde7fb77df",
   "metadata": {},
   "source": [
    "1. Fill them with some value (also known as imputation). \n",
    "2. Remove the samples with missing data altogether."
   ]
  },
  {
   "cell_type": "markdown",
   "id": "1c841b02-ee46-462c-9165-9109e6f90665",
   "metadata": {},
   "source": [
    "Option 1: Fill missing data with Pandas"
   ]
  },
  {
   "cell_type": "code",
   "execution_count": null,
   "id": "2cca47b4-3600-4c77-98ca-d73bfebfe210",
   "metadata": {},
   "outputs": [],
   "source": [
    "# Import car sales missing data\n",
    "car_sales_missing = pd.read_csv(\"data/car-sales-extended-missing-data.csv\")\n",
    "car_sales_missing.head(10);"
   ]
  },
  {
   "cell_type": "code",
   "execution_count": null,
   "id": "139707e1-8b5d-436c-9562-e47566ef8654",
   "metadata": {},
   "outputs": [],
   "source": [
    "car_sales_missing.isna().sum"
   ]
  },
  {
   "cell_type": "code",
   "execution_count": null,
   "id": "3a3196ab-6eb3-44ad-a407-6ac690eb00fc",
   "metadata": {},
   "outputs": [],
   "source": [
    "# Create x and y\n",
    "X = car_sales_missing.drop(\"Price\", axis=1)\n",
    "y = car_sales_missing[\"Price\"]"
   ]
  },
  {
   "cell_type": "code",
   "execution_count": null,
   "id": "c3119bed-3788-4664-9697-64b773affa19",
   "metadata": {},
   "outputs": [],
   "source": [
    "# Add the missing data: (make sure you fill the train and test data seperately - here its done together)\n",
    "\n",
    "# Fill the \"Make\" column\n",
    "car_sales_missing[\"Make\"] = car_sales_missing[\"Make\"].fillna(\"missing\")\n",
    "\n",
    "# Fill the \"Colour\" column\n",
    "car_sales_missing.fillna({\"Colour\": \"missing\"}, inplace=True)\n",
    "\n",
    "# Fill the \"Odometer (KM)\" column\n",
    "car_sales_missing[\"Odometer (KM)\"] = car_sales_missing[\"Odometer (KM)\"].fillna(car_sales_missing[\"Odometer (KM)\"].mean())\n",
    "\n",
    "# Fill the \"Doors\" column\n",
    "car_sales_missing[\"Doors\"] = car_sales_missing[\"Doors\"].fillna(4)"
   ]
  },
  {
   "cell_type": "code",
   "execution_count": null,
   "id": "7159eff7-afee-4ff3-ad50-fe550c630866",
   "metadata": {},
   "outputs": [],
   "source": [
    "# Check our dataframe again\n",
    "car_sales_missing.isna().sum();"
   ]
  },
  {
   "cell_type": "code",
   "execution_count": null,
   "id": "10acc519-8824-44c1-81ae-c76b3378e4be",
   "metadata": {},
   "outputs": [],
   "source": [
    "# Dropping the rows with missing data:\n",
    "\n",
    "# Remove rows with missing Price value\n",
    "car_sales_missing.dropna(inplace=True)"
   ]
  },
  {
   "cell_type": "code",
   "execution_count": null,
   "id": "2a7135aa-4fdc-43da-bbc1-1634fcbcf73b",
   "metadata": {},
   "outputs": [],
   "source": [
    "# Check our dataframe again\n",
    "car_sales_missing.isna().sum();"
   ]
  },
  {
   "cell_type": "code",
   "execution_count": null,
   "id": "0866677a-8128-473b-a3b5-cf54412adbe0",
   "metadata": {},
   "outputs": [],
   "source": [
    "len(car_sales_missing);"
   ]
  },
  {
   "cell_type": "code",
   "execution_count": null,
   "id": "f038a34c-a161-4b9e-b4cf-3b0b7c588a10",
   "metadata": {},
   "outputs": [],
   "source": [
    "# Turn the categories into numbers\n",
    "from sklearn.preprocessing import OneHotEncoder\n",
    "from sklearn.compose import ColumnTransformer\n",
    "\n",
    "categorial_features =  [\"Make\", \"Colour\", \"Doors\"]\n",
    "\n",
    "one_hot = OneHotEncoder()\n",
    "transformer = ColumnTransformer([(\"one_hot\", one_hot, categorial_features)], remainder=\"passthrough\")\n",
    "\n",
    "transformed_x = transformer.fit_transform(x)"
   ]
  },
  {
   "cell_type": "code",
   "execution_count": null,
   "id": "8f3babdc-39e6-4f71-a60c-12953e689528",
   "metadata": {},
   "outputs": [],
   "source": [
    "pd.DataFrame(transformed_x).head();"
   ]
  },
  {
   "cell_type": "markdown",
   "id": "04e18700-bbc7-4e2c-b955-ca7978998da5",
   "metadata": {},
   "source": [
    "Option 2: Filling missing data and transforming categorical data with Scikit-Learn"
   ]
  },
  {
   "cell_type": "markdown",
   "id": "ceca2a73-8534-436a-a7a2-5f3a6bca8617",
   "metadata": {},
   "source": [
    "The main takeaways:\n",
    "\n",
    "1. Split your data first (into train/test)\n",
    "2. Fill/transform the training set and test sets separately"
   ]
  },
  {
   "cell_type": "code",
   "execution_count": null,
   "id": "e50114ef-0db3-4bea-842d-18cb3387da43",
   "metadata": {},
   "outputs": [],
   "source": [
    "car_sales_missing = pd.read_csv(\"data/car-sales-extended-missing-data.csv\")\n",
    "car_sales_missing.head();"
   ]
  },
  {
   "cell_type": "code",
   "execution_count": null,
   "id": "9046caa0-0300-4344-8f70-e2ba09f6bf1e",
   "metadata": {},
   "outputs": [],
   "source": [
    "car_sales_missing.isna().sum();"
   ]
  },
  {
   "cell_type": "code",
   "execution_count": null,
   "id": "0fa0cd8c-da4d-4619-8c54-ba45f183217b",
   "metadata": {},
   "outputs": [],
   "source": [
    "# Drop the rows with no labels\n",
    "car_sales_missing.dropna(subset=[\"Price\"], inplace=True)\n",
    "car_sales_missing.isna().sum();"
   ]
  },
  {
   "cell_type": "code",
   "execution_count": null,
   "id": "a7ce11e9-8892-4cd2-bb9e-050dc8d6dddd",
   "metadata": {},
   "outputs": [],
   "source": [
    "# Split into X and y\n",
    "x = car_sales_missing.drop(\"Price\", axis=1)\n",
    "y = car_sales_missing[\"Price\"]"
   ]
  },
  {
   "cell_type": "code",
   "execution_count": null,
   "id": "dcc4e6e0-747d-45c8-b76b-dbf9b602af2c",
   "metadata": {},
   "outputs": [],
   "source": [
    "# Split data into train and test\n",
    "from sklearn.model_selection import train_test_split\n",
    "\n",
    "np.random.seed(42)\n",
    "x_train, x_test, y_train, y_test = train_test_split(x, y, test_size=0.2)"
   ]
  },
  {
   "cell_type": "code",
   "execution_count": null,
   "id": "2554f595-804a-4939-adf2-ade4c2db1397",
   "metadata": {},
   "outputs": [],
   "source": [
    "x.isna().sum();"
   ]
  },
  {
   "cell_type": "code",
   "execution_count": null,
   "id": "568c385a-1003-4fe1-b25d-ed35b957cf01",
   "metadata": {},
   "outputs": [],
   "source": [
    "# Fill missing values with Scikit-Learn\n",
    "from sklearn.impute import SimpleImputer\n",
    "from sklearn.compose import ColumnTransformer\n",
    "\n",
    "# Fill categorical values with 'missing' & numerical values with mean\n",
    "cat_imputer = SimpleImputer(strategy=\"constant\", fill_value=\"missing\")\n",
    "door_imputer = SimpleImputer(strategy=\"constant\", fill_value=4)\n",
    "num_imputer = SimpleImputer(strategy=\"mean\")\n",
    "\n",
    "# Define columns\n",
    "cat_features = [\"Make\", \"Colour\"]\n",
    "door_feature = [\"Doors\"]\n",
    "num_features = [\"Odometer (KM)\"]\n",
    "\n",
    "# Create an imputer (something that fills missing data)\n",
    "imputer = ColumnTransformer([\n",
    "    (\"cat_imputer\", cat_imputer, cat_features),\n",
    "    (\"door_imputer\", door_imputer, door_feature),\n",
    "    (\"num_imputer\", num_imputer, num_features)\n",
    "])\n",
    "\n",
    "# Fill train and test values separately\n",
    "filled_X_train = imputer.fit_transform(X_train)\n",
    "filled_X_test = imputer.transform(X_test)"
   ]
  },
  {
   "cell_type": "code",
   "execution_count": null,
   "id": "2f426dd0-fa1f-4d82-8390-4151676d1fc6",
   "metadata": {},
   "outputs": [],
   "source": [
    "# Check filled X_train = (without column names)\n",
    "pd.DataFrame(filled_X_train).head();"
   ]
  },
  {
   "cell_type": "code",
   "execution_count": null,
   "id": "fdd1a970-fcf6-4d97-a6a0-1f2741c7e2f5",
   "metadata": {},
   "outputs": [],
   "source": [
    "# Get our transformed data array's back into DataFrame's\n",
    "car_sales_filled_train = pd.DataFrame(filled_X_train, columns=[\"Make\", \"Colour\", \"Doors\", \"Odometer (KM)\"])\n",
    "\n",
    "car_sales_filled_test = pd.DataFrame(filled_X_test, columns=[\"Make\", \"Colour\", \"Doors\", \"Odometer (KM)\"])"
   ]
  },
  {
   "cell_type": "code",
   "execution_count": null,
   "id": "38b7c823-8b72-4d44-890f-8a3a1b6d0a5d",
   "metadata": {},
   "outputs": [],
   "source": [
    "# Check missing data in training set\n",
    "car_sales_filled_train.isna().sum();"
   ]
  },
  {
   "cell_type": "code",
   "execution_count": null,
   "id": "f50b7817-e134-4a30-afcd-82a02df18c8b",
   "metadata": {},
   "outputs": [],
   "source": [
    "# Check to see the original... still missing values\n",
    "car_sales_missing.isna().sum();"
   ]
  },
  {
   "cell_type": "code",
   "execution_count": null,
   "id": "32af73f6-9ea9-4189-b3e6-6b5311a05ddf",
   "metadata": {},
   "outputs": [],
   "source": [
    "# Now let's one hot encode the features with the same code as before \n",
    "categorical_features = [\"Make\", \"Colour\", \"Doors\"]\n",
    "one_hot = OneHotEncoder()\n",
    "transformer = ColumnTransformer([(\"one_hot\", one_hot, categorical_features)], remainder=\"passthrough\")"
   ]
  },
  {
   "cell_type": "code",
   "execution_count": null,
   "id": "d7cb7829-b0a8-4731-a970-936d3f132106",
   "metadata": {},
   "outputs": [],
   "source": [
    "# Fill train and test values separately\n",
    "transformed_X_train = transformer.fit_transform(car_sales_filled_train)\n",
    "transformed_X_test = transformer.transform(car_sales_filled_test)"
   ]
  },
  {
   "cell_type": "code",
   "execution_count": null,
   "id": "6e897f42-93eb-48f3-bfc1-6e283bf2355b",
   "metadata": {},
   "outputs": [],
   "source": [
    "# Check transformed and filled X_train\n",
    "transformed_X_train.toarray();"
   ]
  },
  {
   "cell_type": "code",
   "execution_count": null,
   "id": "d07fd8a0-bc51-4864-987c-3bc3e774776c",
   "metadata": {},
   "outputs": [],
   "source": [
    "# Now we've transformed X, let's see if we can fit a model\n",
    "np.random.seed(42)\n",
    "from sklearn.ensemble import RandomForestRegressor\n",
    "\n",
    "model = RandomForestRegressor()\n",
    "\n",
    "# Make sure to use transformed (filled and one-hot encoded X data)\n",
    "model.fit(transformed_X_train, y_train)\n",
    "model.score(transformed_X_test, y_test)"
   ]
  },
  {
   "cell_type": "code",
   "execution_count": null,
   "id": "42c7c34d-9461-4083-b326-6f36e238a6f7",
   "metadata": {},
   "outputs": [],
   "source": [
    "# Check length of transformed data (filled and one-hot encoded)\n",
    "# vs. length of original data\n",
    "len(transformed_X_train.toarray()) + len(transformed_X_test.toarray()), len(car_sales)"
   ]
  }
 ],
 "metadata": {
  "kernelspec": {
   "display_name": "Python 3 (ipykernel)",
   "language": "python",
   "name": "python3"
  },
  "language_info": {
   "codemirror_mode": {
    "name": "ipython",
    "version": 3
   },
   "file_extension": ".py",
   "mimetype": "text/x-python",
   "name": "python",
   "nbconvert_exporter": "python",
   "pygments_lexer": "ipython3",
   "version": "3.12.7"
  }
 },
 "nbformat": 4,
 "nbformat_minor": 5
}
