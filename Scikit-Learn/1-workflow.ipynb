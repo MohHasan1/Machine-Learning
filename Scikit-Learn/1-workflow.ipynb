{
 "cells": [
  {
   "cell_type": "markdown",
   "id": "c5145f53-fb23-4626-bb34-da8deb6727dd",
   "metadata": {},
   "source": [
    "### An end-to-end Scikit-Learn workflow"
   ]
  },
  {
   "cell_type": "code",
   "execution_count": null,
   "id": "edb4d664-d4b8-4489-9403-3d2d31b9977d",
   "metadata": {},
   "outputs": [],
   "source": [
    "# Standard imports\n",
    "import numpy as np\n",
    "import pandas as pd\n",
    "%matplotlib inline\n",
    "import matplotlib.pyplot as plt"
   ]
  },
  {
   "cell_type": "code",
   "execution_count": null,
   "id": "951707aa-e2a0-4b78-a03f-f442f26f6e71",
   "metadata": {},
   "outputs": [],
   "source": [
    "# 1. Get the data ready\n",
    "heart_disease = pd.read_csv(\"data/heart-disease.csv\")\n",
    "heart_disease.head(1)"
   ]
  },
  {
   "cell_type": "code",
   "execution_count": null,
   "id": "08660c1e-2cc6-49a5-b32b-04df6c1f144e",
   "metadata": {},
   "outputs": [],
   "source": [
    "# Create X (features matrix)\n",
    "x = heart_disease.drop(\"target\", axis=1)\n",
    "\n",
    "# Create y (labels)\n",
    "y = heart_disease.target"
   ]
  },
  {
   "cell_type": "code",
   "execution_count": null,
   "id": "f7ddb719-1a41-4c5d-959e-a36151594916",
   "metadata": {},
   "outputs": [],
   "source": [
    "# 2. Choose the right model and hyperparameters\n",
    "from sklearn.ensemble import RandomForestClassifier\n",
    "clf = RandomForestClassifier()\n",
    "\n",
    "# To see the default hyperparameters\n",
    "clf.get_params();"
   ]
  },
  {
   "cell_type": "code",
   "execution_count": null,
   "id": "d0bf7947-65e0-45da-a2bc-898fe5a30fde",
   "metadata": {},
   "outputs": [],
   "source": [
    "# 3. Split the dataset to training and testing data\n",
    "from sklearn.model_selection import train_test_split\n",
    "\n",
    "x_train , x_test, y_train, y_test = train_test_split(x, y, test_size=0.2) "
   ]
  },
  {
   "cell_type": "code",
   "execution_count": null,
   "id": "e1129ecf-a394-4e63-ba07-f97b545ccdb3",
   "metadata": {},
   "outputs": [],
   "source": [
    "# 4. Fit the model to the training data\n",
    "clf.fit(x_train, y_train);"
   ]
  },
  {
   "cell_type": "code",
   "execution_count": null,
   "id": "92892ac1-6f33-4506-b7f0-903fc3a5f753",
   "metadata": {},
   "outputs": [],
   "source": [
    "# 5. Make a prediction - This will not work as the shaope does not match - always use the test data\n",
    "y_label = clf.predict(np.array([0, 2, 3, 4]))"
   ]
  },
  {
   "cell_type": "code",
   "execution_count": 18,
   "id": "bde38b28-1980-4098-b13a-e5795358f770",
   "metadata": {},
   "outputs": [
    {
     "data": {
      "text/plain": [
       "array([1, 1, 1, 1, 0, 0, 0, 1, 1, 0, 1, 0, 0, 0, 1, 0, 1, 1, 0, 1, 0, 1,\n",
       "       1, 1, 1, 1, 1, 1, 1, 1, 1, 1, 1, 1, 1, 1, 0, 1, 0, 0, 1, 1, 1, 0,\n",
       "       1, 1, 1, 0, 1, 1, 1, 1, 1, 0, 1, 0, 0, 1, 1, 1, 1], dtype=int64)"
      ]
     },
     "execution_count": 18,
     "metadata": {},
     "output_type": "execute_result"
    }
   ],
   "source": [
    "# Make a prediction\n",
    "y_pred = clf.predict(x_test)\n",
    "y_pred"
   ]
  },
  {
   "cell_type": "code",
   "execution_count": 19,
   "id": "f594e824-caf0-474b-9bdf-4b0ccd751a29",
   "metadata": {},
   "outputs": [
    {
     "data": {
      "text/plain": [
       "array([1, 1, 1, 1, 1, 1, 0, 0, 1, 1, 1, 0, 0, 1, 1, 0, 1, 1, 0, 1, 0, 0,\n",
       "       0, 1, 1, 0, 0, 0, 1, 1, 0, 1, 1, 1, 1, 0, 0, 1, 0, 0, 0, 1, 0, 0,\n",
       "       1, 1, 1, 0, 0, 1, 1, 0, 1, 1, 1, 0, 0, 0, 1, 1, 0], dtype=int64)"
      ]
     },
     "execution_count": 19,
     "metadata": {},
     "output_type": "execute_result"
    }
   ],
   "source": [
    "# The actual y/labels of test data\n",
    "np.array(y_test)"
   ]
  },
  {
   "cell_type": "code",
   "execution_count": 20,
   "id": "a7bcc966-89c3-42cd-80a8-31538a2ed6e7",
   "metadata": {},
   "outputs": [
    {
     "data": {
      "text/plain": [
       "1.0"
      ]
     },
     "execution_count": 20,
     "metadata": {},
     "output_type": "execute_result"
    }
   ],
   "source": [
    "# 6. Evaluate the model on the training data and test data\n",
    "\n",
    "# using the train data (should == 1)\n",
    "clf.score(x_train, y_train)"
   ]
  },
  {
   "cell_type": "code",
   "execution_count": 26,
   "id": "078f32e0-6d02-4cf0-a01c-af3a435d61cd",
   "metadata": {},
   "outputs": [
    {
     "data": {
      "text/plain": [
       "0.6885245901639344"
      ]
     },
     "execution_count": 26,
     "metadata": {},
     "output_type": "execute_result"
    }
   ],
   "source": [
    "# using the test data (should != 1)\n",
    "clf.score(x_test, y_test)"
   ]
  },
  {
   "cell_type": "code",
   "execution_count": 28,
   "id": "1f3f709b-b607-4133-9107-05e4dd3e0317",
   "metadata": {},
   "outputs": [
    {
     "name": "stdout",
     "output_type": "stream",
     "text": [
      "              precision    recall  f1-score   support\n",
      "\n",
      "           0       0.72      0.48      0.58        27\n",
      "           1       0.67      0.85      0.75        34\n",
      "\n",
      "    accuracy                           0.69        61\n",
      "   macro avg       0.70      0.67      0.67        61\n",
      "weighted avg       0.70      0.69      0.68        61\n",
      "\n"
     ]
    }
   ],
   "source": [
    "# 7. Other mterics\n",
    "from sklearn.metrics import classification_report, confusion_matrix, accuracy_score\n",
    "\n",
    "# Overall report\n",
    "print(classification_report(y_test, y_pred))"
   ]
  },
  {
   "cell_type": "code",
   "execution_count": 30,
   "id": "5aaf4289-6b0e-4ebf-9c1a-f9fe82f48fcb",
   "metadata": {},
   "outputs": [
    {
     "name": "stdout",
     "output_type": "stream",
     "text": [
      "[[13 14]\n",
      " [ 5 29]]\n"
     ]
    }
   ],
   "source": [
    "# confusion matrix\n",
    "print(confusion_matrix(y_test, y_pred))"
   ]
  },
  {
   "cell_type": "code",
   "execution_count": 31,
   "id": "5d025457-e8f9-40c0-a2e9-ad8cb5147913",
   "metadata": {},
   "outputs": [
    {
     "data": {
      "text/plain": [
       "0.6885245901639344"
      ]
     },
     "execution_count": 31,
     "metadata": {},
     "output_type": "execute_result"
    }
   ],
   "source": [
    "# Accuracy\n",
    "accuracy_score(y_test, y_pred)"
   ]
  },
  {
   "cell_type": "code",
   "execution_count": 38,
   "id": "46204164-115a-477f-85af-8fae0bd6e8a5",
   "metadata": {},
   "outputs": [
    {
     "name": "stdout",
     "output_type": "stream",
     "text": [
      "Trying model with 10 estimators...\n",
      "Model accuracy on test set: 81.97%\n",
      "\n",
      "Trying model with 20 estimators...\n",
      "Model accuracy on test set: 68.85%\n",
      "\n",
      "Trying model with 30 estimators...\n",
      "Model accuracy on test set: 68.85%\n",
      "\n",
      "Trying model with 40 estimators...\n",
      "Model accuracy on test set: 72.13%\n",
      "\n",
      "Trying model with 50 estimators...\n",
      "Model accuracy on test set: 73.77%\n",
      "\n",
      "Trying model with 60 estimators...\n",
      "Model accuracy on test set: 72.13%\n",
      "\n",
      "Trying model with 70 estimators...\n",
      "Model accuracy on test set: 70.49%\n",
      "\n",
      "Trying model with 80 estimators...\n",
      "Model accuracy on test set: 73.77%\n",
      "\n",
      "Trying model with 90 estimators...\n",
      "Model accuracy on test set: 73.77%\n",
      "\n",
      "Trying model with 100 estimators...\n",
      "Model accuracy on test set: 72.13%\n",
      "\n"
     ]
    }
   ],
   "source": [
    "# 8. Improve a model\n",
    "\n",
    "# Try different amount of n_estimators\n",
    "np.random.seed(42)\n",
    "\n",
    "for i in range(10, 110, 10):\n",
    "    print(f\"Trying model with {i} estimators...\")\n",
    "    clf = RandomForestClassifier(n_estimators=i)\n",
    "    clf.fit(x_train, y_train)\n",
    "    print(f\"Model accuracy on test set: {clf.score(x_test, y_test) * 100:.2f}%\")\n",
    "    print(\"\")\n",
    "    "
   ]
  },
  {
   "cell_type": "code",
   "execution_count": 40,
   "id": "6512e0ca-b51b-47b3-a77a-7b8f1e73180a",
   "metadata": {},
   "outputs": [],
   "source": [
    "# 6. Save a model and load it\n",
    "import pickle\n",
    "\n",
    "pickle.dump(clf, open(\"random_forst_model_1.pkl\", \"wb\"))"
   ]
  },
  {
   "cell_type": "code",
   "execution_count": 41,
   "id": "1a88a481-06e5-4018-a994-16343010e39e",
   "metadata": {},
   "outputs": [],
   "source": [
    "# import \n",
    "loaded_model = pickle.load(open(\"random_forst_model_1.pkl\", \"rb\"))"
   ]
  },
  {
   "cell_type": "code",
   "execution_count": 43,
   "id": "3823c460-3638-4a86-9828-57db085373a1",
   "metadata": {},
   "outputs": [
    {
     "data": {
      "text/plain": [
       "0.7213114754098361"
      ]
     },
     "execution_count": 43,
     "metadata": {},
     "output_type": "execute_result"
    }
   ],
   "source": [
    "loaded_model.score(x_test, y_test)"
   ]
  },
  {
   "cell_type": "code",
   "execution_count": null,
   "id": "a37f8cfa-24ed-4fcf-8f58-07f957d6ac61",
   "metadata": {},
   "outputs": [],
   "source": []
  }
 ],
 "metadata": {
  "kernelspec": {
   "display_name": "Python 3 (ipykernel)",
   "language": "python",
   "name": "python3"
  },
  "language_info": {
   "codemirror_mode": {
    "name": "ipython",
    "version": 3
   },
   "file_extension": ".py",
   "mimetype": "text/x-python",
   "name": "python",
   "nbconvert_exporter": "python",
   "pygments_lexer": "ipython3",
   "version": "3.12.7"
  }
 },
 "nbformat": 4,
 "nbformat_minor": 5
}
