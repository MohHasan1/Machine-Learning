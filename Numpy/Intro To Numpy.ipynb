{
 "cells": [
  {
   "cell_type": "markdown",
   "id": "86946904-c3c2-466d-a7fb-2ad0458fb6ce",
   "metadata": {},
   "source": [
    "## Introduction To Numpy"
   ]
  },
  {
   "cell_type": "code",
   "execution_count": 1,
   "id": "b4760267-0a7d-4b75-aa30-deeeb09d66ea",
   "metadata": {},
   "outputs": [],
   "source": [
    "import numpy as np"
   ]
  }
 ],
 "metadata": {
  "kernelspec": {
   "display_name": "Python 3 (ipykernel)",
   "language": "python",
   "name": "python3"
  },
  "language_info": {
   "codemirror_mode": {
    "name": "ipython",
    "version": 3
   },
   "file_extension": ".py",
   "mimetype": "text/x-python",
   "name": "python",
   "nbconvert_exporter": "python",
   "pygments_lexer": "ipython3",
   "version": "3.12.7"
  }
 },
 "nbformat": 4,
 "nbformat_minor": 5
}
